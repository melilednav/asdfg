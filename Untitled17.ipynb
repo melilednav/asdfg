{
  "nbformat": 4,
  "nbformat_minor": 0,
  "metadata": {
    "colab": {
      "name": "Untitled17.ipynb",
      "version": "0.3.2",
      "provenance": [],
      "collapsed_sections": [],
      "include_colab_link": true
    },
    "kernelspec": {
      "name": "python3",
      "display_name": "Python 3"
    }
  },
  "cells": [
    {
      "cell_type": "markdown",
      "metadata": {
        "id": "view-in-github",
        "colab_type": "text"
      },
      "source": [
        "[View in Colaboratory](https://colab.research.google.com/github/melilednav/asdfg/blob/master/Untitled17.ipynb)"
      ]
    },
    {
      "metadata": {
        "id": "8hhh4NZix_bZ",
        "colab_type": "code",
        "colab": {
          "base_uri": "https://localhost:8080/",
          "height": 368
        },
        "outputId": "6d873471-f718-478d-9609-582f9294879f"
      },
      "cell_type": "code",
      "source": [
        "#Ledesma Olmos, Melissa.\n",
        "#27/Septiembre/2018\n",
        "\n",
        "import numpy as np\n",
        "import pylab as pl\n",
        "\n",
        "def euler(f,x,y,h,m):\n",
        "  u=np.zeros([m,2])\n",
        "  for i in range(m):\n",
        "    y=y+h*f(x,y)\n",
        "    x=x+h\n",
        "    u[i,0]=x\n",
        "    u[i,1]=y\n",
        "  return u\n",
        "\n",
        "def f(x,y):\n",
        "  return(y - x**2 + x + 1)\n",
        "\n",
        "u=euler(f,0,1,0.1,20)\n",
        "pl.plot(u[:,0],u[:,1],'or')\n",
        "\n",
        "def y(x):\n",
        "  return np.exp(x)+ x**2 +x\n",
        "         #Solución exacta\n",
        "x=pl.arange(0,2.1,0.1)\n",
        "pl.plot(x,y(x), 'ob')\n",
        "pl.grid(True)\n",
        "pl.show"
      ],
      "execution_count": 7,
      "outputs": [
        {
          "output_type": "execute_result",
          "data": {
            "text/plain": [
              "<function matplotlib.pyplot.show>"
            ]
          },
          "metadata": {
            "tags": []
          },
          "execution_count": 7
        },
        {
          "output_type": "display_data",
          "data": {
            "image/png": "[encoded data removed]",
            "text/plain": [
              "<matplotlib.figure.Figure at 0x7f70e4fc52e8>"
            ]
          },
          "metadata": {
            "tags": []
          }
        }
      ]
    },
    {
      "metadata": {
        "id": "rlF8nuelyP5v",
        "colab_type": "text"
      },
      "cell_type": "markdown",
      "source": [
        "**Método de Euler:**\n",
        "\n",
        "Y_{i+1} = Y_{i} + hf(x_i , y_i)  \n",
        "X_{i+1} = X_{i} + h,  i=0, 1, 2, ...\n",
        "\n",
        "E = h²/2! y''(z) = o(h²)\n",
        "\n",
        "**Euler Mejorado**\n",
        "\n",
        "\\barr{Y}_{i+1} = Y_i + hf(x_i , y_i)\n",
        "\n",
        "Y_{i+1} = Y_i + h/2 ( f(x_i , y_i) + f(X_{i+1}, \\barr{Y}_{i+1})\n",
        "\n",
        "X_{i+1} = X_{i} + h,  i=0, 1, 2, ...\n",
        "\n",
        "E = h³/3! y'''(z)= o(h³)   \n",
        "\n",
        "**Range-Kutta Segundo Orden**\n",
        "\n",
        "k_1 = hf(x_i, Y_i)\n",
        "\n",
        "k_2=hf(x_i + h, y_i + k_1)\n",
        "\n",
        "Y_{i+1} = y_i + 1/2 (k_1 + k_2)\n",
        "\n",
        "X_{i+1}=X_i + h i=0, 1, 2...\n",
        "\n",
        "E = h³/3! y'''(z)= o(h³)   \n",
        "\n",
        "**Cuarto Orden\n",
        "\n",
        "k_3=hf(x_i + h/2, y_i + k_2/2"
      ]
    }
  ]
}