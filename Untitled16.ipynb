{
  "nbformat": 4,
  "nbformat_minor": 0,
  "metadata": {
    "colab": {
      "name": "Untitled16.ipynb",
      "version": "0.3.2",
      "provenance": [],
      "collapsed_sections": [],
      "include_colab_link": true
    },
    "kernelspec": {
      "name": "python3",
      "display_name": "Python 3"
    }
  },
  "cells": [
    {
      "cell_type": "markdown",
      "metadata": {
        "id": "view-in-github",
        "colab_type": "text"
      },
      "source": [
        "[View in Colaboratory](https://colab.research.google.com/github/melilednav/asdfg/blob/master/Untitled16.ipynb)"
      ]
    },
    {
      "metadata": {
        "id": "ayiO2WsTP3ii",
        "colab_type": "code",
        "colab": {
          "base_uri": "https://localhost:8080/",
          "height": 34
        },
        "outputId": "5a4465c4-a123-4835-f272-8c593832e418"
      },
      "cell_type": "code",
      "source": [
        "#Ledesma Olmos, Melissa.\n",
        "#25/Septiembre/2018\n",
        "\n",
        "#Método de la serie de Taylor:\n",
        "#Dada una ecuación diferencial de primer orden con una condición inicial\n",
        "#El desarrollo de la serie de Taylor se usa para obtener puntos de la solución a una distancia elegida h, a partir de ls condición inicial conocida, y para el error de truncamiento.\n",
        "#Con este método no se puede llegar a una solción exacta, sino que OBTENEMOS DOS PUNTOS QUE FORMAN PARTE DE LA SOLUCIÓN.\n"
      ],
      "execution_count": 2,
      "outputs": [
        {
          "output_type": "execute_result",
          "data": {
            "text/latex": "$$x{\\left (t \\right )} = C_{1} e^{\\frac{t^{2}}{2}} - 3$$",
            "text/plain": [
              "            2    \n",
              "           t     \n",
              "           ──    \n",
              "           2     \n",
              "x(t) = C₁⋅ℯ   - 3"
            ]
          },
          "metadata": {
            "tags": []
          },
          "execution_count": 2
        }
      ]
    },
    {
      "metadata": {
        "id": "WERyH3onTyrN",
        "colab_type": "code",
        "colab": {
          "base_uri": "https://localhost:8080/",
          "height": 52
        },
        "outputId": "90d6602e-e8c3-4258-98aa-fe26eaf06e98"
      },
      "cell_type": "code",
      "source": [
        "#1\n",
        "import sympy \n",
        "sympy.init_printing(use_latex='mathjax')\n",
        "\n",
        "t=sympy.Symbol( 't' )\n",
        "x=sympy.Function( 'x' )\n",
        "\n",
        "f= 3*t + t*(x(t))\n",
        "Sol=sympy.dsolve(x(t).diff(t) - f)\n",
        "Sol"
      ],
      "execution_count": 3,
      "outputs": [
        {
          "output_type": "execute_result",
          "data": {
            "image/png": "[encoded data removed]",
            "text/latex": "$$- \\frac{25 \\cos{\\left (25 \\right )}}{8 \\Gamma{\\left(\\frac{9}{4} \\right)}} \\Gamma{\\left(\\frac{5}{4} \\right)} + \\frac{5 \\sqrt{2} \\sqrt{\\pi} C\\left(\\frac{5 \\sqrt{2}}{\\sqrt{\\pi}}\\right)}{16 \\Gamma{\\left(\\frac{9}{4} \\right)}} \\Gamma{\\left(\\frac{5}{4} \\right)}$$",
            "text/plain": [
              "                                      ⎛5⋅√2⎞       \n",
              "                      5⋅√2⋅√π⋅fresnelc⎜────⎟⋅Γ(5/4)\n",
              "  25⋅cos(25)⋅Γ(5/4)                   ⎝ √π ⎠       \n",
              "- ───────────────── + ─────────────────────────────\n",
              "       8⋅Γ(9/4)                 16⋅Γ(9/4)          "
            ]
          },
          "metadata": {
            "tags": []
          },
          "execution_count": 3
        }
      ]
    },
    {
      "metadata": {
        "id": "xfDiPn_tVjDS",
        "colab_type": "code",
        "colab": {}
      },
      "cell_type": "code",
      "source": [
        "#2\n",
        "import sympy as sp\n",
        "from sympy import *\n",
        "sp.init_printing()\n",
        "\n",
        "x=sympy.Symbol( 'x' )\n",
        "\n",
        "f=x**2 * sp.sin(x**2)\n",
        "g=sp.integrate(f,(x,0,5))\n",
        "g"
      ],
      "execution_count": 0,
      "outputs": []
    },
    {
      "metadata": {
        "id": "E58AduzzV0AF",
        "colab_type": "code",
        "colab": {
          "base_uri": "https://localhost:8080/",
          "height": 399
        },
        "outputId": "ae7dde02-eab0-4030-b81e-d9d64a512234"
      },
      "cell_type": "code",
      "source": [
        "#3\n",
        "import numpy as np\n",
        "import matplotlib.pyplot as plt\n",
        "\n",
        "def f(x):\n",
        "  return np.exp(x)+x+x**2\n",
        "\n",
        "x=np.arange(0,2,0.1)\n",
        "plt.figure(1)\n",
        "plt.plot(11)\n",
        "plt.plot(x, f(x), 'k', [1.2152], [1.4614], 'ro')"
      ],
      "execution_count": 11,
      "outputs": [
        {
          "output_type": "execute_result",
          "data": {
            "text/plain": [
              "[<matplotlib.lines.Line2D at 0x7fd25ec04a20>,\n",
              " <matplotlib.lines.Line2D at 0x7fd25eb259b0>,\n",
              " <matplotlib.lines.Line2D at 0x7fd25eb25dd8>]"
            ]
          },
          "metadata": {
            "tags": []
          },
          "execution_count": 11
        },
        {
          "output_type": "display_data",
          "data": {
            "image/png": "[encoded data removed]",
            "text/plain": [
              "<matplotlib.figure.Figure at 0x7fd25ebff898>"
            ]
          },
          "metadata": {
            "tags": []
          }
        }
      ]
    },
    {
      "metadata": {
        "id": "WBXhOtipfdmJ",
        "colab_type": "code",
        "colab": {
          "base_uri": "https://localhost:8080/",
          "height": 364
        },
        "outputId": "80d7d0ce-f827-45ac-f319-d8291d84c82d"
      },
      "cell_type": "code",
      "source": [
        "#3.1\n",
        "import numpy as np\n",
        "import matplotlib.pyplot as plt\n",
        "\n",
        "def f(x):\n",
        "  return np.exp(x)+x+x**2\n",
        "\n",
        "x=np.arange(0,2,0.1)\n",
        "plt.plot(x, f(x))\n",
        "plt.plot([0.1, 0.2],[1.2152, 1.4614], 'ro')"
      ],
      "execution_count": 13,
      "outputs": [
        {
          "output_type": "execute_result",
          "data": {
            "text/plain": [
              "[<matplotlib.lines.Line2D at 0x7fd25eab91d0>]"
            ]
          },
          "metadata": {
            "tags": []
          },
          "execution_count": 13
        },
        {
          "output_type": "display_data",
          "data": {
            "image/png": "[encoded data removed]",
            "text/plain": [
              "<matplotlib.figure.Figure at 0x7fd25eab9048>"
            ]
          },
          "metadata": {
            "tags": []
          }
        }
      ]
    },
    {
      "metadata": {
        "id": "upGE8k2OgUO0",
        "colab_type": "code",
        "colab": {}
      },
      "cell_type": "code",
      "source": [
        "#4(taylor3)\n",
        "import numpy as np\n",
        "\n",
        "def taylor3(f,df,x,y,h,m):\n",
        "  u=np.zeros([m,2])\n",
        "  #matrices de m*2, m es la cantidad de puntos que queremos.\n",
        "  for i in range(m):\n",
        "    y=y+h*f(x,y)+h**2/2*df(x,y)\n",
        "    x=x+h\n",
        "    u[i,0]=x\n",
        "    u[i,1]=y\n",
        "  return(u)"
      ],
      "execution_count": 0,
      "outputs": []
    },
    {
      "metadata": {
        "id": "ABdGU3mMmOAH",
        "colab_type": "code",
        "colab": {
          "base_uri": "https://localhost:8080/",
          "height": 173
        },
        "outputId": "91e6b56d-8c1d-484c-cf94-d47c95fdd888"
      },
      "cell_type": "code",
      "source": [
        "#5\n",
        "from numpy import *\n",
        "from scipy.integrate import odeint\n",
        "\n",
        "def f(x,y):\n",
        "  return y - x**2 + x + 1\n",
        "\n",
        "x=arange(0,0.6,0.1)\n",
        "  #arange define como vector\n",
        "y=odeint(f,1,x)\n",
        "  #odeint identifica y como una serie de puntos\n",
        "  \n",
        "print('\\nx=',x)\n",
        "print('\\ny=',y)"
      ],
      "execution_count": 16,
      "outputs": [
        {
          "output_type": "stream",
          "text": [
            "\n",
            "x= [0.  0.1 0.2 0.3 0.4 0.5]\n",
            "\n",
            "y= [[1.        ]\n",
            " [1.09967618]\n",
            " [1.19750056]\n",
            " [1.29191662]\n",
            " [1.38175001]\n",
            " [1.46622838]]\n"
          ],
          "name": "stdout"
        }
      ]
    }
  ]
}