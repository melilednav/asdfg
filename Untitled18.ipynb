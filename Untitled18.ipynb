{
  "nbformat": 4,
  "nbformat_minor": 0,
  "metadata": {
    "colab": {
      "name": "Untitled18.ipynb",
      "version": "0.3.2",
      "provenance": [],
      "collapsed_sections": [],
      "include_colab_link": true
    },
    "kernelspec": {
      "name": "python3",
      "display_name": "Python 3"
    }
  },
  "cells": [
    {
      "cell_type": "markdown",
      "metadata": {
        "id": "view-in-github",
        "colab_type": "text"
      },
      "source": [
        "[View in Colaboratory](https://colab.research.google.com/github/melilednav/asdfg/blob/master/Untitled18.ipynb)"
      ]
    },
    {
      "metadata": {
        "id": "mcovNmchtCqm",
        "colab_type": "code",
        "colab": {}
      },
      "cell_type": "code",
      "source": [
        "#Ledesma Olmos Melissa\n",
        "#28/Septiembre/2017\n",
        "\n",
        "import numpy as np\n",
        "\n",
        "def heun(f,x,y,h,m):\n",
        "  u=np.zeros([m,2],dtype=float)\n",
        "  for i in range(m):\n",
        "     y=y+h*f(x,y)\n",
        "    u[i,0]=x\n",
        "    u[i,1]=y\n",
        "  return(u)\n",
        "\n"
      ],
      "execution_count": 0,
      "outputs": []
    },
    {
      "metadata": {
        "id": "eqrZml_gw4qW",
        "colab_type": "code",
        "colab": {}
      },
      "cell_type": "code",
      "source": [
        "import numpy as np\n",
        "def rk2(f,x,y,h,m):\n",
        "  u=np.zeros([m,2],float)\n",
        "  for i in range(m):\n",
        "    k1=h*f(x,y)\n",
        "    k2=h*f(x+h,y+k1)\n",
        "    y=y+0.5*(k1+k2)\n",
        "    x=x+h\n",
        "    u[i,0]=x\n",
        "    u[i,1]=y\n",
        "  return(u)"
      ],
      "execution_count": 0,
      "outputs": []
    },
    {
      "metadata": {
        "id": "XvMU2t9lyqXK",
        "colab_type": "code",
        "colab": {}
      },
      "cell_type": "code",
      "source": [
        "import numpy as np\n",
        "def rk4(f,x,y,h,m):\n",
        "  u=np.zeros([m,2],float)\n",
        "  for i in range(m):\n",
        "      k1=h*f(x,y)\n",
        "      k2=h*f(x+h,y+k1)\n",
        "      k3=h*f(x+h/2,y+k2/2)\n",
        "      k4=h*f(x+h,y+k3)\n",
        "      y=y+1/6*(k1+2*k2+2*k3+k4)\n",
        "      x=x+h\n",
        "      u[i,0]=x\n",
        "      u[i,1]=y\n",
        "    return(u)"
      ],
      "execution_count": 0,
      "outputs": []
    }
  ]
}