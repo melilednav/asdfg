{
  "nbformat": 4,
  "nbformat_minor": 0,
  "metadata": {
    "colab": {
      "name": "Untitled15.ipynb",
      "version": "0.3.2",
      "provenance": [],
      "include_colab_link": true
    },
    "kernelspec": {
      "name": "python3",
      "display_name": "Python 3"
    }
  },
  "cells": [
    {
      "cell_type": "markdown",
      "metadata": {
        "id": "view-in-github",
        "colab_type": "text"
      },
      "source": [
        "[View in Colaboratory](https://colab.research.google.com/github/melilednav/asdfg/blob/master/Untitled15.ipynb)"
      ]
    },
    {
      "metadata": {
        "id": "T5Qdqtwvq8Iy",
        "colab_type": "code",
        "colab": {
          "base_uri": "https://localhost:8080/",
          "height": 34
        },
        "outputId": "fcf40ac5-fb56-4673-bacf-9e2ed8154205"
      },
      "cell_type": "code",
      "source": [
        "#Ledesma Olmos, Melissa.\n",
        "#21/Septiembre/2018\n",
        "\n",
        "#Una ecuación diferencial es una ecuación que involucra una variable dependiente y sus derivadas con respecto a una o más variables independientes.\n",
        "#Muchas de las leyes de la naturaleza encuentran la forma más natural de ser expresadas en forma de ecuaciones diferenciales. \n",
        "#La razón detrás de la amplia aplicación de las ecuaciones diferenciales, puesto que puede ser interpretada como la razón de cambio de \"y\" con respecto a \"x\" en \"y=f(x)\".\n",
        "\n",
        "#Si en la ecuación tenemos derivadas de más de una variable independiente, debemos hablar de ecuaciones diferenciales parciales. Por ejemplo, si w=f(x,y,z) es una función de tiempo y tres cordenadasde un punto en el espacio, entonces es necesario realizar una ecuación parcial. \n",
        "#Estos tienen grandes aplicaciones, se conocen como la ecuación de LaPlace.\n",
        "\n",
        "#ORDEN DE LAS ECUACIONES PARCIALES: El orden de una ecuación diferencial va a ser igual al orden de la mayor diferencial presente.\n",
        "#Ecuaciones diferenciales separables: Es una ecuación diferencial de primer orden en la que la expresión se puede factorizar como una función de x que multiplica una función de y.\n",
        "\n",
        "#Ecuaciones diferenciales lineales: dy/dx + P(x)y = Q(x) donde P y Q son funciones continuas de x en un determinado intervalo. \n",
        "\n",
        "#SERIES DE POTENCIAS\n",
        "#SERIES DE TAYLOR*****\n",
        "\n",
        "#LIBRERIAS: NumPy, Matplotlib, SymPy, SciPy.\n",
        "\n",
        "import sympy\n",
        "#from scipy import integrate\n",
        "sympy.init_printing(use_latex='mathjax')\n",
        "\n",
        "x = sympy.Symbol( 'x' )\n",
        "y = sympy.Function( 'y' )\n",
        "\n",
        "f = 6*x**2 - 3*x**2*(y(x))\n",
        "#sympy.Eq(y(x).diff(x), f)\n",
        "\n",
        "sympy.dsolve(y(x).diff(x) - f)"
      ],
      "execution_count": 3,
      "outputs": [
        {
          "output_type": "execute_result",
          "data": {
            "text/latex": "$$y{\\left (x \\right )} = C_{1} e^{- x^{3}} + 2$$",
            "text/plain": [
              "             3    \n",
              "           -x     \n",
              "y(x) = C₁⋅ℯ    + 2"
            ]
          },
          "metadata": {
            "tags": []
          },
          "execution_count": 3
        }
      ]
    },
    {
      "metadata": {
        "id": "duzg1fJ6B3X8",
        "colab_type": "code",
        "colab": {
          "base_uri": "https://localhost:8080/",
          "height": 34
        },
        "outputId": "2323e7a4-1b3c-40ed-8692-f3c910f8b0f7"
      },
      "cell_type": "code",
      "source": [
        "import sympy\n",
        "sympy.init_printing(use_latex='mathjax')\n",
        "\n",
        "x = sympy.Symbol( 'x' )\n",
        "y = sympy.Function( 'y' )\n",
        "\n",
        "f=(y(x)**2-1)/2\n",
        "\n",
        "sympy.dsolve(y(x).diff(x) - f)"
      ],
      "execution_count": 8,
      "outputs": [
        {
          "output_type": "execute_result",
          "data": {
            "text/latex": "$$y{\\left (x \\right )} = \\frac{1}{\\tanh{\\left (C_{1} - \\frac{x}{2} \\right )}}$$",
            "text/plain": [
              "            1      \n",
              "y(x) = ────────────\n",
              "           ⎛     x⎞\n",
              "       tanh⎜C₁ - ─⎟\n",
              "           ⎝     2⎠"
            ]
          },
          "metadata": {
            "tags": []
          },
          "execution_count": 8
        }
      ]
    },
    {
      "metadata": {
        "id": "8QTET38MQzPP",
        "colab_type": "code",
        "colab": {}
      },
      "cell_type": "code",
      "source": [
        ""
      ],
      "execution_count": 0,
      "outputs": []
    }
  ]
}